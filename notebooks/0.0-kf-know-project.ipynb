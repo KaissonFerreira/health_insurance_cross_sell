{
 "cells": [
  {
   "cell_type": "markdown",
   "metadata": {},
   "source": [
    "# Business - Previsão de venda para seguro de saúde"
   ]
  },
  {
   "cell_type": "markdown",
   "metadata": {
    "heading_collapsed": true
   },
   "source": [
    "## Contexto:"
   ]
  },
  {
   "cell_type": "markdown",
   "metadata": {
    "hidden": true
   },
   "source": [
    "Fui contrado como cientista de dados pela empresa Seguradora Insurance Rocks para prestar um serviço. O contexto do problema é que essa seguradora forneceu Seguro Saúde para seus clientes agora eles precisam de um modelo para prever se os segurados (clientes) do ano passado também terão interesse no Seguro de Veículos fornecido pela empresa.\n",
    "\n",
    "Construir um modelo para prever se um cliente estaria interessado em Seguro de Veículo é extremamente útil para a empresa, pois ela pode planejar adequadamente sua estratégia de comunicação para alcançar esses clientes e otimizar seu modelo de negócios e receita. **Nesse contexto, é essencial identificar quais clientes tem uma maior propensão à compra de um segundo produto que seria o seguro para veículo, uma vez que a parte comercial só dá conta de fazer 2000 ligações, tendo em vista que existe uma base de 380 mil registros de clientes.**\n",
    "\n",
    "Cada apólice de seguro custa em média 5.000,00 reais anual de forma que o seguro para cada apólice é R$100.000,00. Levando em consideração o levantamento que o time de analytics da empresa fez sobre o percentual e a probabilidade das pessoas que acabam ganhando o seguro, em média, a cada 100 clientes que compram o seguro de carro, 2 pessoas acabam ganhando o seguro, com um desvio padrão de +/- 1.\n",
    "\n",
    "As informações disponíveis para modelagem são sobre dados demográficos (gênero, idade, tipo de código de região), Veículos (idade do veículo, danos), apólice (Premium, canal de fornecimento) etc."
   ]
  },
  {
   "cell_type": "markdown",
   "metadata": {
    "heading_collapsed": true
   },
   "source": [
    "## Objetivo do négocio:"
   ]
  },
  {
   "cell_type": "markdown",
   "metadata": {
    "hidden": true
   },
   "source": [
    "* Fazer um ranqueamento das pessoas que tem uma probabilidade para compra do seguro de veículo."
   ]
  },
  {
   "cell_type": "markdown",
   "metadata": {
    "heading_collapsed": true
   },
   "source": [
    "## Entendimento do negócio:"
   ]
  },
  {
   "cell_type": "markdown",
   "metadata": {
    "hidden": true
   },
   "source": [
    "1. Qual a motivação?\n",
    "    * O pedido para o ranqueamento dos clientes com maiores chances de comprar o seguro foi feito pelo diretor comercial.\n",
    "2. Qual a causa raíz do problema?\n",
    "    * Dificuldade em determinar quais seriam as melhores pessoas para fazer ligação sobre a compra do produto, uma vez a base de clientes contava com 300 mil, e o time comercial só havia capacidade para fazer 2000 ligações.\n",
    "3. Quem é o dono do problema?\n",
    "    * Diretor Comercial da seguradora.\n",
    "4. Qual é o formato da solução?\n",
    "    * **Granularidade:** Previsão por cliente\n",
    "    * **Tipo do problema:** Classificação e ranqueamento\n",
    "    * **Potenciais métodos:** Classificação\n",
    "    * **Formato de entrega:**\n",
    "        - Lista com os nomes e informações dos clientes que estiverem mais propensos às compras.\n",
    "        "
   ]
  },
  {
   "cell_type": "markdown",
   "metadata": {
    "heading_collapsed": true
   },
   "source": [
    "# Planejamento da solução"
   ]
  },
  {
   "cell_type": "markdown",
   "metadata": {
    "hidden": true
   },
   "source": [
    "## Input:"
   ]
  },
  {
   "cell_type": "markdown",
   "metadata": {
    "hidden": true
   },
   "source": [
    "* Cronograma: 1 semana\n",
    "* Limitação: Utilização de máquina local\n",
    "* Origem dos dados: https://www.kaggle.com/datasets/anmolkumar/health-insurance-cross-sell-prediction?select=train.csv"
   ]
  },
  {
   "cell_type": "markdown",
   "metadata": {
    "hidden": true
   },
   "source": [
    "## Output:"
   ]
  },
  {
   "cell_type": "markdown",
   "metadata": {
    "hidden": true
   },
   "source": [
    "### Objetivo geral:"
   ]
  },
  {
   "cell_type": "markdown",
   "metadata": {
    "hidden": true
   },
   "source": [
    "* Ranqueamento para obtenção de uma lista com 2000 melhores clientes para compra de seguro de veículo."
   ]
  },
  {
   "cell_type": "markdown",
   "metadata": {
    "hidden": true
   },
   "source": [
    "### Objetivo específico:"
   ]
  },
  {
   "cell_type": "markdown",
   "metadata": {
    "hidden": true
   },
   "source": [
    "* Validação das hipóteses e gerar insights para o negócio\n"
   ]
  },
  {
   "cell_type": "markdown",
   "metadata": {
    "hidden": true
   },
   "source": [
    "## Tasks"
   ]
  },
  {
   "cell_type": "markdown",
   "metadata": {
    "hidden": true
   },
   "source": [
    "* Entendimento do negócio\n",
    "* Entendimento dos dados\n",
    "* Coleta dos dados\n",
    "* Limpeza dos dados\n",
    "* Análise descritiva dos dados\n",
    "* Filtragem dos dados\n",
    "    - Por Colunas\n",
    "    - Por Registros\n",
    "* Feature Engineering\n",
    "    - Criação do mapa de hipóteses\n",
    "    - Criação de novas features\n",
    "* Análise exploratória dos dados\n",
    "    - Univariada\n",
    "    - Bivariada\n",
    "    - Multivariada\n",
    "* Seleção de features\n",
    "    - Boruta / Features Importance (Random Forest)\n",
    "    - EDA\n",
    "* Pré-Processamento\n",
    "    - Normalização / Padronização (Variáveis numéricas)\n",
    "    - Encoding (Variáveis categóricas)\n",
    "    - Transformação cíclica (Variáveis cíclicas)\n",
    "* Seleção de treino e teste\n",
    "    - Avaliar o balanceamento entre as classes (Classificação)\n",
    "* Modelagem\n",
    "    - Baseline\n",
    "    - Regressão logística\n",
    "    - Random Forest Classifier\n",
    "    - Xgboost classifier\n",
    "* Fine tuning\n",
    "    - Grid search\n",
    "* Avaliação do modelo\n",
    "    - Cross Validation\n",
    "* Avaliação dos resultados do modelo para o negócio\n",
    "    - Cálculo para estimativa de retorno financeiro utilizando o modelo em produção comparado com os resultados caso fossem obtidos por uma seleção aleatória de clientes."
   ]
  },
  {
   "cell_type": "markdown",
   "metadata": {
    "hidden": true
   },
   "source": []
  }
 ],
 "metadata": {
  "kernelspec": {
   "display_name": "Python 3",
   "language": "python",
   "name": "python3"
  },
  "language_info": {
   "codemirror_mode": {
    "name": "ipython",
    "version": 3
   },
   "file_extension": ".py",
   "mimetype": "text/x-python",
   "name": "python",
   "nbconvert_exporter": "python",
   "pygments_lexer": "ipython3",
   "version": "3.9.13"
  },
  "vscode": {
   "interpreter": {
    "hash": "2c8e90606d4d019f49e063bc7a17d0cda8c830c48b158d02f4dbdcc4353204fd"
   }
  }
 },
 "nbformat": 4,
 "nbformat_minor": 2
}
